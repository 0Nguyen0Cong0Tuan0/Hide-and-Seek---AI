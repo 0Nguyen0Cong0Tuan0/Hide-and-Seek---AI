{
 "cells": [
  {
   "cell_type": "code",
   "execution_count": 33,
   "metadata": {},
   "outputs": [
    {
     "name": "stdout",
     "output_type": "stream",
     "text": [
      "[0, 0, 0, 0, 0, 0, 0]\n",
      "[0, 0, 1, 1, 1, 1, 1]\n",
      "[0, 0, 1, 0, 0, 0, 0]\n",
      "[0, 0, 1, 2, 0, 0, 0]\n",
      "[0, 0, 1, 0, 0, 0, 0]\n",
      "[0, 0, 1, 0, 0, 0, 0]\n",
      "[0, 0, 1, 0, 0, 0, 0]\n",
      "0\n",
      "0\n"
     ]
    }
   ],
   "source": [
    "#from AI import map_array, num_cols, num_rows\n",
    "import random\n",
    "import AI\n",
    "\n",
    "class Seeker:\n",
    "  def __init__(self, position, point=0, speed=0): \n",
    "    self.position = position\n",
    "    self.point = point\n",
    "    self.speed = speed\n",
    "  \n",
    "  def catch(self, hider_position):\n",
    "    return self.position == hider_position\n",
    "  def updatePoint(self, level, hider_position):\n",
    "    # Catch hider\n",
    "    if (self.catch(self, hider_position)):\n",
    "      self.point = 20\n",
    "    else:\n",
    "      self.point -= 1\n",
    "\n",
    "\n",
    "class Hider:\n",
    "  def __init__(self, speed=0):\n",
    "    self.position_x, self.position_y = self.Position(map_array, num_rows, num_cols)\n",
    "    self.speed = speed\n",
    "  \n",
    "  def Position(self, map_array, num_rows, num_cols):\n",
    "    for i in range(num_rows):\n",
    "      for j in range(num_cols):\n",
    "        if (map_array[i][j] == 2):\n",
    "          return i, j\n",
    "  \n",
    "  def unit_range(self):\n",
    "    top = self.position_x - 3\n",
    "    left = self.position_y - 3\n",
    "    bottom = self.position_x + 3\n",
    "    right = self.position_y + 3\n",
    "\n",
    "    vision = []\n",
    "    wall = []\n",
    "    for i in range(top, bottom + 1):\n",
    "      row = []\n",
    "      for j in range(left, right + 1):\n",
    "        row.append(map_array[i][j])\n",
    "        if (map_array[i][j] == 1):\n",
    "          wall.append((i, j))\n",
    "      vision.append(row)\n",
    "\n",
    "    for row in vision:\n",
    "      print(row)\n",
    "\n",
    "    return vision\n",
    "\n",
    "  def announce(self, seeker_moves):\n",
    "    if (seeker_moves == 5):\n",
    "      unit_matrix = self.unit_range()\n",
    "      while True:\n",
    "        rand_row_index = random.randint(0, 6)\n",
    "        rand_col_index = random.randint(0, 6)\n",
    "        if (unit_matrix[rand_row_index][rand_col_index] == 0):\n",
    "          break\n",
    "      \n",
    "    return rand_row_index, rand_col_index\n",
    "\n",
    "    \n",
    "  \n",
    "# 4, 18\n",
    "hider = Hider(0)\n",
    "row, col = hider.announce(5)\n",
    "print(row)\n",
    "print(col)\n"
   ]
  }
 ],
 "metadata": {
  "kernelspec": {
   "display_name": "Python 3",
   "language": "python",
   "name": "python3"
  },
  "language_info": {
   "codemirror_mode": {
    "name": "ipython",
    "version": 3
   },
   "file_extension": ".py",
   "mimetype": "text/x-python",
   "name": "python",
   "nbconvert_exporter": "python",
   "pygments_lexer": "ipython3",
   "version": "3.11.0"
  }
 },
 "nbformat": 4,
 "nbformat_minor": 2
}
