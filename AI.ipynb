{
 "cells": [
  {
   "cell_type": "code",
   "execution_count": 88,
   "metadata": {},
   "outputs": [
    {
     "name": "stdout",
     "output_type": "stream",
     "text": [
      "Dimensions of the table: 8 rows, 32 columns\n",
      "Position of hiders: [(5, 21)]\n",
      "Position of seeker: [(2, 31)]\n",
      "Position of obstacles: ['(0,2,1,5)']\n"
     ]
    }
   ],
   "source": [
    "hider_position = []\n",
    "seeker_position = []\n",
    "obstacles_position = []\n",
    "map_array = []\n",
    "num_rows, num_cols = 0, 0\n",
    "\n",
    "def read_txt_file(filename):\n",
    "    global num_rows, num_cols\n",
    "    with open(filename, 'r') as file:\n",
    "        dimensions = file.readline().strip().split()\n",
    "        num_rows, num_cols = map(int, dimensions)\n",
    "\n",
    "        for row_idx, line in enumerate(file):\n",
    "            elements = line.strip().split()\n",
    "\n",
    "            for col_idx, element in enumerate(elements):\n",
    "                if element == '2':\n",
    "                    hider_position.append((row_idx, col_idx))\n",
    "                elif element == '3':\n",
    "                    seeker_position.append((row_idx, col_idx))\n",
    "            \n",
    "            if line.startswith(\"(\"):\n",
    "                obstacles_position.append(line.strip(\"\\n\"))\n",
    "            else:\n",
    "                row_data = [int(char) for char in line.strip(\"\\n\").split()]\n",
    "                map_array.append(row_data)\n",
    "\n",
    "filename = \"test_map.txt\"\n",
    "read_txt_file(filename)\n",
    "\n",
    "print(\"Dimensions of the table:\", num_rows, \"rows,\", num_cols, \"columns\")\n",
    "print(\"Position of hiders:\", hider_position)\n",
    "print(\"Position of seeker:\", seeker_position)\n",
    "print(\"Position of obstacles:\", obstacles_position)"
   ]
  },
  {
   "cell_type": "code",
   "execution_count": 89,
   "metadata": {},
   "outputs": [
    {
     "name": "stdout",
     "output_type": "stream",
     "text": [
      "[0, 0, 4, 4, 4, 4, 0, 0, 0, 0, 0, 0, 0, 0, 0, 0, 0, 0, 0, 0, 0, 0, 0, 0, 0, 0, 0, 0, 0, 0, 0, 0]\n",
      "[0, 0, 4, 4, 4, 4, 0, 0, 0, 0, 0, 0, 0, 0, 0, 0, 0, 0, 0, 0, 0, 0, 0, 0, 0, 0, 0, 0, 0, 0, 0, 0]\n",
      "[0, 0, 0, 1, 0, 0, 0, 0, 0, 0, 1, 0, 0, 0, 0, 0, 1, 1, 1, 1, 1, 1, 1, 1, 1, 0, 0, 0, 0, 0, 1, 3]\n",
      "[0, 0, 0, 1, 0, 0, 0, 0, 0, 0, 1, 0, 0, 0, 0, 0, 1, 0, 0, 0, 0, 0, 0, 0, 0, 0, 0, 0, 0, 0, 1, 0]\n",
      "[0, 0, 0, 1, 0, 0, 0, 0, 0, 0, 1, 0, 0, 0, 0, 0, 1, 0, 0, 0, 0, 0, 0, 0, 0, 0, 0, 0, 0, 0, 1, 0]\n",
      "[0, 0, 0, 1, 0, 0, 0, 0, 0, 0, 1, 0, 0, 0, 0, 0, 1, 0, 0, 0, 0, 2, 0, 0, 0, 0, 0, 0, 0, 0, 1, 0]\n",
      "[0, 0, 0, 1, 0, 0, 0, 0, 0, 0, 1, 0, 0, 0, 0, 0, 1, 0, 0, 0, 0, 0, 0, 0, 0, 0, 0, 0, 0, 0, 1, 0]\n",
      "[0, 0, 0, 1, 0, 0, 0, 0, 0, 0, 1, 0, 0, 0, 0, 0, 1, 0, 0, 0, 0, 0, 0, 0, 0, 0, 0, 0, 0, 0, 1, 0]\n"
     ]
    }
   ],
   "source": [
    "for row in map_array:\n",
    "    print(row)"
   ]
  },
  {
   "cell_type": "code",
   "execution_count": 90,
   "metadata": {},
   "outputs": [
    {
     "name": "stdout",
     "output_type": "stream",
     "text": [
      "[0, 0, 4, 4, 4, 4, 0, 0, 0, 0, 0, 0, 0, 0, 0, 0, 0, 0, 0, 0, 0, 0, 0, 0, 0, 0, 0, 0, 0, 0, 0, 0]\n",
      "[0, 0, 4, 4, 4, 4, 0, 0, 0, 0, 0, 0, 0, 0, 0, 0, 0, 0, 0, 0, 0, 0, 0, 0, 0, 0, 0, 0, 0, 0, 0, 0]\n",
      "[5, 5, 5, 1, 5, 5, 5, 5, 5, 5, 1, 5, 5, 5, 5, 5, 1, 1, 1, 1, 1, 1, 1, 1, 1, 5, 5, 5, 5, 5, 1, 3]\n",
      "[5, 5, 5, 1, 5, 5, 5, 5, 5, 5, 1, 5, 5, 5, 5, 5, 1, 5, 5, 5, 5, 5, 5, 5, 5, 5, 5, 5, 5, 5, 1, 0]\n",
      "[5, 5, 5, 1, 5, 5, 5, 5, 5, 5, 1, 5, 5, 5, 5, 5, 1, 5, 5, 5, 5, 5, 5, 5, 5, 5, 5, 5, 5, 5, 1, 0]\n",
      "[5, 5, 5, 1, 5, 5, 5, 5, 5, 5, 1, 5, 5, 5, 5, 5, 1, 5, 5, 5, 5, 2, 5, 5, 5, 5, 5, 5, 5, 5, 1, 0]\n",
      "[5, 5, 5, 1, 5, 5, 5, 5, 5, 5, 1, 5, 5, 5, 5, 5, 1, 5, 5, 5, 5, 5, 5, 5, 5, 5, 5, 5, 5, 5, 1, 0]\n",
      "[5, 5, 5, 1, 5, 5, 5, 5, 5, 5, 1, 5, 5, 5, 5, 5, 1, 5, 5, 5, 5, 5, 5, 5, 5, 5, 5, 5, 5, 5, 1, 0]\n"
     ]
    }
   ],
   "source": [
    "\n",
    "for row_idx in range(num_rows):\n",
    "    start_col_left = 0\n",
    "    for col_idx in range(num_cols):\n",
    "        if map_array[row_idx][col_idx] == 1:\n",
    "            for col_ss in range(start_col_left, col_idx):\n",
    "                if map_array[row_idx][col_ss] == 0:\n",
    "                    map_array[row_idx][col_ss] = 5\n",
    "            start_col_left = col_idx + 1\n",
    "\n",
    "for row in map_array:\n",
    "    print(row)"
   ]
  }
 ],
 "metadata": {
  "kernelspec": {
   "display_name": "Python 3",
   "language": "python",
   "name": "python3"
  },
  "language_info": {
   "codemirror_mode": {
    "name": "ipython",
    "version": 3
   },
   "file_extension": ".py",
   "mimetype": "text/x-python",
   "name": "python",
   "nbconvert_exporter": "python",
   "pygments_lexer": "ipython3",
   "version": "3.12.2"
  }
 },
 "nbformat": 4,
 "nbformat_minor": 2
}
